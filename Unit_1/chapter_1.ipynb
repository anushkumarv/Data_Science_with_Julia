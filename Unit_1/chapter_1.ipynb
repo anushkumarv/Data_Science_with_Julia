{
 "cells": [
  {
   "cell_type": "markdown",
   "metadata": {},
   "source": [
    "#### Chapter 1 TOC (draft version - changes can be made)\n",
    "1 What is Data Science ? <br />\n",
    "1.1 General data science workflow <br />\n",
    "1.2 Types of variables ( Categorical and continuous variables ) <br />\n",
    "2 What is Statistics ? <br />\n",
    "2.1 Branches of statistics - Inferential Statistics and Descriptive Statistics <br />\n",
    "3 Exploratory Data Analysis <br />\n",
    "3.1 Categorical variable( Pie Chart, Bar chart etc) <br />\n",
    "3.2 Continuous variable ( Histograms, stemplot) <br />\n",
    "3.2.1 Measures of centre ( mean, median and mode) <br />\n",
    "3.2.2 Measures of spread ( range, Inter-quartile range, standard deviation) <br />\n",
    "4 Numerical measures <br />\n",
    "4.1 Measures of centre <br />\n",
    "4.2 Measures of spread<br />\n",
    "4.3 Boxplot and Standard deviations<br />"
   ]
  },
  {
   "cell_type": "markdown",
   "metadata": {},
   "source": [
    "### Exploratory Data analysis <br />\n",
    "3.1 Categorical variable <br />\n",
    "Give an example here of a dataset <br />\n",
    "Questions which can be answered by examining categorical distribution are <br />\n",
    "what is the percentage of each datapoint which fall into a particular category <br />\n",
    "Are the datapoints equally divided under each category?. If not, do they follow some pattern?<br />\n",
    "\n",
    "To answer theses questions and summarize the distribution of a categorical variable we can first create a table of frequency distribution.<br />\n",
    "---> Create a frequency distribution table below for the above mentioned dataset. Display it in a table and julia code for obtaining the same.\n",
    "\n",
    "In order to visualize the above frequency distribution table, two simple methods preferred are the bar chart and the pie chart \n",
    "---> Code for pie chart and barchart\n"
   ]
  },
  {
   "cell_type": "markdown",
   "metadata": {},
   "source": [
    "3.2 Continuous varible <br />\n",
    "Histograms are the most popular method of visualising continuos varibles. Give an example( either a continous number from a dataset or an random array of numbers in a range). Inorder to create a histogram we first divide the values into fixed sized intervals called as bins. The number of datapoints which fit into each bin is then calculated. ---> Display a table. To create a histogram, we take the intervals in X axis and count of each each interval in Y axis.<br />\n",
    "Shape, centre and spread can be used interpret histogram. Symmetry/skeweness and modality are used to describe the shape of a histogram. Types of it can be <br />\n",
    "1 - Symmetric and unimodal <br />\n",
    "2 - Symmetric and bimodal<br />\n",
    "3 - Symmetric and uniform <br />\n",
    "4 - Skewed right <br />\n",
    "5 - Skewed left <br />\n",
    "The centre of the distribution(histogram) is defined to be as its mid-point. The midpoint divides the distribution so that half of the datapoints take approximately smaller values and half of the datapoints take larger values.Histograms gives us a rough idea about the centre.<br />\n",
    "The spread of the distribution can be described by the approximate range covered by the data. From looking at the histogram, we can approximate the smallest datapoint (min), and the largest datapoint (max), and hence we will be able to approximate  the range <br />\n",
    "Histograms can also be used to identify the outliers in the distribution. Outliers are treated as noise in some application --->( example to be given), and as important information in a few cases. <br />"
   ]
  },
  {
   "cell_type": "markdown",
   "metadata": {},
   "source": [
    "The Stemplot also known as leaf plot can be used visualise a continous varibale. The steps to construct a stemplot is given below <br />\n",
    "1 - pick the stem or leaves which are the leftmost digit of each value in the continuos variable <br />\n",
    "2 - Draw a vertical bar with all the stems on the left. <br />\n",
    "3 - Put each datapoint next to it the right of its stem <br /> \n",
    "4 - Rearrange it in ascending order <br />\n",
    "---> example and code of stemplot <br />\n",
    "The main advantages of stemplot over the histogram are <br />\n",
    "1 - It retains the actual datapoints.\n",
    "2 - It displays all the points in a soted manner."
   ]
  },
  {
   "cell_type": "markdown",
   "metadata": {},
   "source": [
    "4 Numerical measures\n",
    "4.1 Measures of centre\n",
    "There are 3 main measures which are most often considered when determining the centre. They are mean, median and mode <br />\n",
    "---> Explain mode with example <br />\n",
    "---> Explain median with example <br />\n",
    "---> Explain mean with example <br />\n",
    "---> Difference between mean and average <br />\n",
    "4.2 Measures of spread <br />\n",
    "4.2.1 Interquarile range <br />\n",
    "explanations and examples of interquartile range <br />\n",
    "Explain how IQR can be used to detect outliers. General notation being. below Q1 - 1.5(IQR) and above Q3 + 1.5(IQR) <br />\n",
    "4.2.2 Boxplots <br />\n",
    "Explain 5 measures used to contruct a box plot with an example. <br />\n",
    "How boxplot can be used to remove outliers.\n",
    "4.2.3 Standard deviation <br />\n",
    "Explanation, idea behind it and properties with an example.<br />"
   ]
  }
 ],
 "metadata": {
  "kernelspec": {
   "display_name": "Julia 0.6.2",
   "language": "julia",
   "name": "julia-0.6"
  },
  "language_info": {
   "file_extension": ".jl",
   "mimetype": "application/julia",
   "name": "julia",
   "version": "0.6.2"
  }
 },
 "nbformat": 4,
 "nbformat_minor": 2
}

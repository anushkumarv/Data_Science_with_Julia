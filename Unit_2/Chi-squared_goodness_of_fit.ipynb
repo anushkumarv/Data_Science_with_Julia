{
 "cells": [
  {
   "cell_type": "code",
   "execution_count": 1,
   "metadata": {},
   "outputs": [],
   "source": [
    "using Distributions, HypothesisTests"
   ]
  },
  {
   "cell_type": "code",
   "execution_count": 2,
   "metadata": {},
   "outputs": [
    {
     "data": {
      "text/plain": [
       "6-element Array{Float64,1}:\n",
       "  4.8              \n",
       "  7.199999999999999\n",
       " 12.0              \n",
       " 12.0              \n",
       "  9.0              \n",
       " 15.0              "
      ]
     },
     "execution_count": 2,
     "metadata": {},
     "output_type": "execute_result"
    }
   ],
   "source": [
    "# Consider a hypothesis where the probability of each number( 1 - 6 ) occuring on a die is given below by p\n",
    "p = [0.08, 0.12, 0.2, 0.2, 0.15, 0.25]\n",
    "# Let number of trials n be equal to 60 and the observed number of each number( 1 - 6 ) be represented by o\n",
    "o = [3, 2, 9, 11, 8, 27]\n",
    "m = length(o) - 1 # let m represent degrees of freedom \n",
    "n = 60\n",
    "# Expected values for n = 60 will be E = np\n",
    "e = n.*p"
   ]
  },
  {
   "cell_type": "code",
   "execution_count": 3,
   "metadata": {},
   "outputs": [
    {
     "data": {
      "text/plain": [
       "0.020452052528875952"
      ]
     },
     "execution_count": 3,
     "metadata": {},
     "output_type": "execute_result"
    }
   ],
   "source": [
    "test_statistic = sum((o-e).^2 ./e)\n",
    "pVal = ccdf(Chisq(m), test_statistic)"
   ]
  },
  {
   "cell_type": "code",
   "execution_count": 5,
   "metadata": {},
   "outputs": [
    {
     "name": "stdout",
     "output_type": "stream",
     "text": [
      "Manually calculated test statistic: 14.974999999999998\n",
      "Manually calculated p-value: 0.020452052528875952\n",
      "\n"
     ]
    }
   ],
   "source": [
    "println(\"Manually calculated test statistic: \", test_statistic)\n",
    "println(\"Manually calculated p-value: \", pVal,\"\\n\")"
   ]
  },
  {
   "cell_type": "code",
   "execution_count": 6,
   "metadata": {},
   "outputs": [
    {
     "name": "stdout",
     "output_type": "stream",
     "text": [
      "Pearson's Chi-square Test\n",
      "-------------------------\n",
      "Population details:\n",
      "    parameter of interest:   Multinomial Probabilities\n",
      "    value under h_0:         [0.08, 0.12, 0.2, 0.2, 0.15, 0.25]\n",
      "    point estimate:          [0.05, 0.0333333, 0.15, 0.183333, 0.133333, 0.45]\n",
      "    95% confidence interval: Tuple{Float64,Float64}[(0.0, 0.1828), (0.0, 0.1662), (0.0333, 0.2828), (0.0667, 0.3162), (0.0167, 0.2662), (0.3333, 0.5828)]\n",
      "\n",
      "Test summary:\n",
      "    outcome with 95% confidence: reject h_0\n",
      "    one-sided p-value:           0.0105\n",
      "\n",
      "Details:\n",
      "    Sample size:        60\n",
      "    statistic:          14.975000000000001\n",
      "    degrees of freedom: 5\n",
      "    residuals:          [-0.821584, -1.93793, -0.866025, -0.288675, -0.333333, 3.09839]\n",
      "    std. residuals:     [-0.85656, -2.06584, -0.968246, -0.322749, -0.361551, 3.57771]\n",
      "\n"
     ]
    }
   ],
   "source": [
    "# using built in library\n",
    "println(ChisqTest(o,p))"
   ]
  }
 ],
 "metadata": {
  "kernelspec": {
   "display_name": "Julia 1.1.0",
   "language": "julia",
   "name": "julia-1.1"
  },
  "language_info": {
   "file_extension": ".jl",
   "mimetype": "application/julia",
   "name": "julia",
   "version": "1.1.0"
  }
 },
 "nbformat": 4,
 "nbformat_minor": 2
}

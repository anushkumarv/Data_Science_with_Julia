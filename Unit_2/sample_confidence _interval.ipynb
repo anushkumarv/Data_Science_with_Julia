{
 "cells": [
  {
   "cell_type": "code",
   "execution_count": 2,
   "metadata": {},
   "outputs": [],
   "source": [
    "using CSV, Distributions, HypothesisTests"
   ]
  },
  {
   "cell_type": "code",
   "execution_count": 3,
   "metadata": {},
   "outputs": [
    {
     "data": {
      "text/plain": [
       "18-element Array{Union{Missing, Float64},1}:\n",
       " 48.232390109774904\n",
       " 52.27351779520738 \n",
       " 52.0720991700097  \n",
       " 51.88136380400122 \n",
       " 50.898600652112705\n",
       " 53.13910845160147 \n",
       " 50.88296218665962 \n",
       " 49.807257093374794\n",
       " 49.04791179434456 \n",
       " 50.91491625995569 \n",
       " 50.73578182751547 \n",
       " 47.6154076025163  \n",
       " 50.893171221589455\n",
       " 52.9559389575489  \n",
       " 51.90831273558151 \n",
       " 52.22159828531742 \n",
       " 51.60575820776536 \n",
       " 49.96704470938145 "
      ]
     },
     "execution_count": 3,
     "metadata": {},
     "output_type": "execute_result"
    }
   ],
   "source": [
    "# Load Random data\n",
    "data = CSV.read(\"../Data/unit_2/random2.csv\", header=false)[:,1]"
   ]
  },
  {
   "cell_type": "code",
   "execution_count": 4,
   "metadata": {},
   "outputs": [
    {
     "data": {
      "text/plain": [
       "18"
      ]
     },
     "execution_count": 4,
     "metadata": {},
     "output_type": "execute_result"
    }
   ],
   "source": [
    "# Calculate sample mean and sample length\n",
    "x_bar = mean(data)\n",
    "n = length(data)"
   ]
  },
  {
   "cell_type": "markdown",
   "metadata": {},
   "source": [
    "using confint(test::HypothesisTest, alpha = 0.05; tail = :both) <br/>\n",
    "from julia documentation <br/>\n",
    "Compute a confidence interval C with coverage 1-alpha. <br/>\n",
    "If tail is :both (default), then a two-sided confidence interval is returned. If tail is :left or :right, then a one-sided confidence interval is returned.\n"
   ]
  },
  {
   "cell_type": "code",
   "execution_count": 5,
   "metadata": {},
   "outputs": [
    {
     "name": "stdout",
     "output_type": "stream",
     "text": [
      "Calculating formula: (50.48216185321032, 51.41263157615166)\n",
      "Using confint() function: (50.48216185321032, 51.41263157615166)\n"
     ]
    }
   ],
   "source": [
    "# Assuming population standarad deviation\n",
    "sigma = 1.2\n",
    "alpha = 0.1 # this value can be changed\n",
    "z = quantile(Normal(),1-alpha/2)\n",
    "# Manual calculation for 99% confidence interval\n",
    "println(\"Calculating formula: \", (x_bar - z*sigma/sqrt(n), x_bar + z*sigma/sqrt(n)))\n",
    "# Using built in function\n",
    "println(\"Using confint() function: \", confint(OneSampleZTest(x_bar,sigma,n),alpha))"
   ]
  }
 ],
 "metadata": {
  "kernelspec": {
   "display_name": "Julia 1.1.0",
   "language": "julia",
   "name": "julia-1.1"
  },
  "language_info": {
   "file_extension": ".jl",
   "mimetype": "application/julia",
   "name": "julia",
   "version": "1.1.0"
  }
 },
 "nbformat": 4,
 "nbformat_minor": 2
}

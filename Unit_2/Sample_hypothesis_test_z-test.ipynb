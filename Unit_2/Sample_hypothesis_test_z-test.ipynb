{
 "cells": [
  {
   "cell_type": "code",
   "execution_count": 2,
   "metadata": {},
   "outputs": [],
   "source": [
    "using CSV, Distributions, HypothesisTests"
   ]
  },
  {
   "cell_type": "code",
   "execution_count": 3,
   "metadata": {},
   "outputs": [
    {
     "data": {
      "text/plain": [
       "20-element Array{Union{Missing, Float64},1}:\n",
       " 53.35674558144255 \n",
       " 53.45887516134873 \n",
       " 52.282838627926125\n",
       " 52.98746570643515 \n",
       " 51.993167774733486\n",
       " 53.373333606198   \n",
       " 55.75410538860477 \n",
       " 50.279496381439365\n",
       " 53.6359586914001  \n",
       " 53.517705831707495\n",
       " 53.70044994508253 \n",
       " 54.15592592604583 \n",
       " 53.55054914606446 \n",
       " 52.37319589109419 \n",
       " 53.4900750059897  \n",
       " 52.939458524079605\n",
       " 52.16761562743534 \n",
       " 50.87140009591033 \n",
       " 53.144919157924924\n",
       " 52.09084035473537 "
      ]
     },
     "execution_count": 3,
     "metadata": {},
     "output_type": "execute_result"
    }
   ],
   "source": [
    "# Read data from a file\n",
    "data = CSV.read(\"../Data/unit_2/random1.csv\", header=false)[:,1]"
   ]
  },
  {
   "cell_type": "code",
   "execution_count": 9,
   "metadata": {},
   "outputs": [
    {
     "name": "stdout",
     "output_type": "stream",
     "text": [
      "One sample z-test\n",
      "-----------------\n",
      "Population details:\n",
      "    parameter of interest:   Mean\n",
      "    value under h_0:         52.2\n",
      "    point estimate:          52.9562061212799\n",
      "    95% confidence interval: (52.4303, 53.4821)\n",
      "\n",
      "Test summary:\n",
      "    outcome with 95% confidence: reject h_0\n",
      "    two-sided p-value:           0.0048\n",
      "\n",
      "Details:\n",
      "    number of observations:   20\n",
      "    z-statistic:              2.8182138203054934\n",
      "    population standard error: 0.2683281572999747\n",
      "\n",
      "######################################\n",
      "One sample z-test\n",
      "-----------------\n",
      "Population details:\n",
      "    parameter of interest:   Mean\n",
      "    value under h_0:         53\n",
      "    point estimate:          52.9562061212799\n",
      "    95% confidence interval: (52.4303, 53.4821)\n",
      "\n",
      "Test summary:\n",
      "    outcome with 95% confidence: fail to reject h_0\n",
      "    two-sided p-value:           0.8704\n",
      "\n",
      "Details:\n",
      "    number of observations:   20\n",
      "    z-statistic:              -0.1632101496942159\n",
      "    population standard error: 0.2683281572999747\n",
      "\n"
     ]
    }
   ],
   "source": [
    "# Calculate the sample mean an length of data\n",
    "x_bar = mean(data)\n",
    "n = length(data)\n",
    "# Assume population standard deviation\n",
    "sigma = 1.2\n",
    "# Let us consider two null hypothesis where mean be 52.2 and 53 respectively. Alternative hypothesis will be H1 != mean in H0\n",
    "H0mu0, H0mu1 = 52.2, 53\n",
    "# using built in function for Z test\n",
    "test0 = OneSampleZTest(x_bar, sigma, n, H0mu0)\n",
    "test1 = OneSampleZTest(x_bar, sigma, n, H0mu1)\n",
    "println(test0)\n",
    "println(\"######################################\")\n",
    "println(test1)"
   ]
  },
  {
   "cell_type": "code",
   "execution_count": null,
   "metadata": {},
   "outputs": [],
   "source": []
  },
  {
   "cell_type": "code",
   "execution_count": 10,
   "metadata": {},
   "outputs": [
    {
     "name": "stdout",
     "output_type": "stream",
     "text": [
      "Manually Calculated p value when \n"
     ]
    }
   ],
   "source": [
    "# Manually calculating the p value for null hypothesis\n",
    "# Note the below test static is derived from the central limit theorem\n",
    "test_statistic = ( x_bar - H0mu0 ) / ( sigma/sqrt(n) )\n",
    "pVal = 2*ccdf(Normal(), abs(test_statistic))\n",
    "println(\"Manually Calculated p value when assumed population mean is 52.2 \")"
   ]
  }
 ],
 "metadata": {
  "kernelspec": {
   "display_name": "Julia 1.1.0",
   "language": "julia",
   "name": "julia-1.1"
  },
  "language_info": {
   "file_extension": ".jl",
   "mimetype": "application/julia",
   "name": "julia",
   "version": "1.1.0"
  }
 },
 "nbformat": 4,
 "nbformat_minor": 2
}

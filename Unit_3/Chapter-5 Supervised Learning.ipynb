{
 "cells": [
  {
   "cell_type": "markdown",
   "metadata": {},
   "source": [
    "# Supervised Learning"
   ]
  },
  {
   "cell_type": "markdown",
   "metadata": {},
   "source": [
    "1) What is Machine Learning?\n",
    "> 1.1) What are the different types of machine learning? <br>\n",
    "> 1.2) Why has Machine Learning gained so much attention in the past few years? <br>\n",
    "> 1.3) The scope of problem solving with machine learning <br>\n",
    "> 1.4) Important terms used in machine learning <br>\n",
    "\n",
    "2) Supervised Learning\n",
    "> 2.1) Types of supervised learning <br>\n",
    "> 2.2) Applications of Supervised learning <br>\n",
    "\n",
    "3) Classification\n",
    "> 3.1) Binary and Multiclass <br>\n",
    "> 3.2) Common classification problems <br>\n",
    "\n",
    "4) Regression\n",
    "> 4.1) Types of regression \n",
    "\n",
    "5) Underfitting and Overfitting\n",
    "> 5.1) Consequences <br>\n",
    "> 5.2) Regularization <br>\n",
    "\n",
    "6) Types of error rates\n",
    "\n",
    "7) Advantages and Disadvantages of machine learning\n",
    "\n",
    "8) Some of Supervised learning algorithms - part 1\n",
    "> 8.1) Decision Trees <br>\n",
    "> 8.2) KNN <br>\n",
    "\n"
   ]
  },
  {
   "cell_type": "code",
   "execution_count": null,
   "metadata": {},
   "outputs": [],
   "source": []
  }
 ],
 "metadata": {
  "kernelspec": {
   "display_name": "Python 3",
   "language": "python",
   "name": "python3"
  },
  "language_info": {
   "codemirror_mode": {
    "name": "ipython",
    "version": 3
   },
   "file_extension": ".py",
   "mimetype": "text/x-python",
   "name": "python",
   "nbconvert_exporter": "python",
   "pygments_lexer": "ipython3",
   "version": "3.7.1"
  }
 },
 "nbformat": 4,
 "nbformat_minor": 2
}
